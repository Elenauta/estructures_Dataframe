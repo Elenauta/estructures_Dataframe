{
 "cells": [
  {
   "cell_type": "markdown",
   "id": "eec873e5",
   "metadata": {},
   "source": [
    "### S03 T05: Exploració de les dades"
   ]
  },
  {
   "cell_type": "markdown",
   "id": "2d082b26",
   "metadata": {},
   "source": [
    "Familiaritza't amb les tècniques d'exploració de les dades mitjantçant la estructura de dades, Dataframe amb la llibreria Pandas."
   ]
  },
  {
   "cell_type": "markdown",
   "id": "38c146a7",
   "metadata": {},
   "source": [
    "## Exercici 1"
   ]
  },
  {
   "cell_type": "markdown",
   "id": "b5e4f7d6",
   "metadata": {},
   "source": [
    "> Descarrega el data set Airlines Delay: [Airline on-time stat istics and delay causes](https://www.kaggle.com/giovamata/airlinedelaycauses) i carrega’l a un pandas Dataframe. Explora les dades que conté, i queda’t únicament amb les columnes que consideris rellevants."
   ]
  },
  {
   "cell_type": "code",
   "execution_count": 2,
   "id": "ead37f2f",
   "metadata": {
    "scrolled": true
   },
   "outputs": [],
   "source": [
    "%matplotlib inline\n",
    "import pandas as pd\n",
    "import numpy as np\n",
    "import matplotlib.pyplot as plt \n",
    "import seaborn as sns"
   ]
  },
  {
   "cell_type": "code",
   "execution_count": 3,
   "id": "aa0c9e5b",
   "metadata": {
    "scrolled": true
   },
   "outputs": [],
   "source": [
    "df = pd.read_csv('DelayedFlights.csv')"
   ]
  },
  {
   "cell_type": "code",
   "execution_count": 4,
   "id": "fb03b2ff",
   "metadata": {},
   "outputs": [],
   "source": [
    "# Once the dataset is updated, let's go for a quick overview printing the five first \n",
    "#and five last rows\n",
    " "
   ]
  },
  {
   "cell_type": "code",
   "execution_count": 5,
   "id": "c9fd8534",
   "metadata": {
    "scrolled": false
   },
   "outputs": [
    {
     "data": {
      "text/html": [
       "<div>\n",
       "<style scoped>\n",
       "    .dataframe tbody tr th:only-of-type {\n",
       "        vertical-align: middle;\n",
       "    }\n",
       "\n",
       "    .dataframe tbody tr th {\n",
       "        vertical-align: top;\n",
       "    }\n",
       "\n",
       "    .dataframe thead th {\n",
       "        text-align: right;\n",
       "    }\n",
       "</style>\n",
       "<table border=\"1\" class=\"dataframe\">\n",
       "  <thead>\n",
       "    <tr style=\"text-align: right;\">\n",
       "      <th></th>\n",
       "      <th>Unnamed: 0</th>\n",
       "      <th>Year</th>\n",
       "      <th>Month</th>\n",
       "      <th>DayofMonth</th>\n",
       "      <th>DayOfWeek</th>\n",
       "      <th>DepTime</th>\n",
       "      <th>CRSDepTime</th>\n",
       "      <th>ArrTime</th>\n",
       "      <th>CRSArrTime</th>\n",
       "      <th>UniqueCarrier</th>\n",
       "      <th>...</th>\n",
       "      <th>TaxiIn</th>\n",
       "      <th>TaxiOut</th>\n",
       "      <th>Cancelled</th>\n",
       "      <th>CancellationCode</th>\n",
       "      <th>Diverted</th>\n",
       "      <th>CarrierDelay</th>\n",
       "      <th>WeatherDelay</th>\n",
       "      <th>NASDelay</th>\n",
       "      <th>SecurityDelay</th>\n",
       "      <th>LateAircraftDelay</th>\n",
       "    </tr>\n",
       "  </thead>\n",
       "  <tbody>\n",
       "    <tr>\n",
       "      <th>0</th>\n",
       "      <td>0</td>\n",
       "      <td>2008</td>\n",
       "      <td>1</td>\n",
       "      <td>3</td>\n",
       "      <td>4</td>\n",
       "      <td>2003.0</td>\n",
       "      <td>1955</td>\n",
       "      <td>2211.0</td>\n",
       "      <td>2225</td>\n",
       "      <td>WN</td>\n",
       "      <td>...</td>\n",
       "      <td>4.0</td>\n",
       "      <td>8.0</td>\n",
       "      <td>0</td>\n",
       "      <td>N</td>\n",
       "      <td>0</td>\n",
       "      <td>NaN</td>\n",
       "      <td>NaN</td>\n",
       "      <td>NaN</td>\n",
       "      <td>NaN</td>\n",
       "      <td>NaN</td>\n",
       "    </tr>\n",
       "    <tr>\n",
       "      <th>1</th>\n",
       "      <td>1</td>\n",
       "      <td>2008</td>\n",
       "      <td>1</td>\n",
       "      <td>3</td>\n",
       "      <td>4</td>\n",
       "      <td>754.0</td>\n",
       "      <td>735</td>\n",
       "      <td>1002.0</td>\n",
       "      <td>1000</td>\n",
       "      <td>WN</td>\n",
       "      <td>...</td>\n",
       "      <td>5.0</td>\n",
       "      <td>10.0</td>\n",
       "      <td>0</td>\n",
       "      <td>N</td>\n",
       "      <td>0</td>\n",
       "      <td>NaN</td>\n",
       "      <td>NaN</td>\n",
       "      <td>NaN</td>\n",
       "      <td>NaN</td>\n",
       "      <td>NaN</td>\n",
       "    </tr>\n",
       "    <tr>\n",
       "      <th>2</th>\n",
       "      <td>2</td>\n",
       "      <td>2008</td>\n",
       "      <td>1</td>\n",
       "      <td>3</td>\n",
       "      <td>4</td>\n",
       "      <td>628.0</td>\n",
       "      <td>620</td>\n",
       "      <td>804.0</td>\n",
       "      <td>750</td>\n",
       "      <td>WN</td>\n",
       "      <td>...</td>\n",
       "      <td>3.0</td>\n",
       "      <td>17.0</td>\n",
       "      <td>0</td>\n",
       "      <td>N</td>\n",
       "      <td>0</td>\n",
       "      <td>NaN</td>\n",
       "      <td>NaN</td>\n",
       "      <td>NaN</td>\n",
       "      <td>NaN</td>\n",
       "      <td>NaN</td>\n",
       "    </tr>\n",
       "    <tr>\n",
       "      <th>3</th>\n",
       "      <td>4</td>\n",
       "      <td>2008</td>\n",
       "      <td>1</td>\n",
       "      <td>3</td>\n",
       "      <td>4</td>\n",
       "      <td>1829.0</td>\n",
       "      <td>1755</td>\n",
       "      <td>1959.0</td>\n",
       "      <td>1925</td>\n",
       "      <td>WN</td>\n",
       "      <td>...</td>\n",
       "      <td>3.0</td>\n",
       "      <td>10.0</td>\n",
       "      <td>0</td>\n",
       "      <td>N</td>\n",
       "      <td>0</td>\n",
       "      <td>2.0</td>\n",
       "      <td>0.0</td>\n",
       "      <td>0.0</td>\n",
       "      <td>0.0</td>\n",
       "      <td>32.0</td>\n",
       "    </tr>\n",
       "    <tr>\n",
       "      <th>4</th>\n",
       "      <td>5</td>\n",
       "      <td>2008</td>\n",
       "      <td>1</td>\n",
       "      <td>3</td>\n",
       "      <td>4</td>\n",
       "      <td>1940.0</td>\n",
       "      <td>1915</td>\n",
       "      <td>2121.0</td>\n",
       "      <td>2110</td>\n",
       "      <td>WN</td>\n",
       "      <td>...</td>\n",
       "      <td>4.0</td>\n",
       "      <td>10.0</td>\n",
       "      <td>0</td>\n",
       "      <td>N</td>\n",
       "      <td>0</td>\n",
       "      <td>NaN</td>\n",
       "      <td>NaN</td>\n",
       "      <td>NaN</td>\n",
       "      <td>NaN</td>\n",
       "      <td>NaN</td>\n",
       "    </tr>\n",
       "  </tbody>\n",
       "</table>\n",
       "<p>5 rows × 30 columns</p>\n",
       "</div>"
      ],
      "text/plain": [
       "   Unnamed: 0  Year  Month  DayofMonth  DayOfWeek  DepTime  CRSDepTime  \\\n",
       "0           0  2008      1           3          4   2003.0        1955   \n",
       "1           1  2008      1           3          4    754.0         735   \n",
       "2           2  2008      1           3          4    628.0         620   \n",
       "3           4  2008      1           3          4   1829.0        1755   \n",
       "4           5  2008      1           3          4   1940.0        1915   \n",
       "\n",
       "   ArrTime  CRSArrTime UniqueCarrier  ...  TaxiIn TaxiOut  Cancelled  \\\n",
       "0   2211.0        2225            WN  ...     4.0     8.0          0   \n",
       "1   1002.0        1000            WN  ...     5.0    10.0          0   \n",
       "2    804.0         750            WN  ...     3.0    17.0          0   \n",
       "3   1959.0        1925            WN  ...     3.0    10.0          0   \n",
       "4   2121.0        2110            WN  ...     4.0    10.0          0   \n",
       "\n",
       "   CancellationCode  Diverted  CarrierDelay  WeatherDelay NASDelay  \\\n",
       "0                 N         0           NaN           NaN      NaN   \n",
       "1                 N         0           NaN           NaN      NaN   \n",
       "2                 N         0           NaN           NaN      NaN   \n",
       "3                 N         0           2.0           0.0      0.0   \n",
       "4                 N         0           NaN           NaN      NaN   \n",
       "\n",
       "  SecurityDelay  LateAircraftDelay  \n",
       "0           NaN                NaN  \n",
       "1           NaN                NaN  \n",
       "2           NaN                NaN  \n",
       "3           0.0               32.0  \n",
       "4           NaN                NaN  \n",
       "\n",
       "[5 rows x 30 columns]"
      ]
     },
     "execution_count": 5,
     "metadata": {},
     "output_type": "execute_result"
    }
   ],
   "source": [
    "df.head()"
   ]
  },
  {
   "cell_type": "code",
   "execution_count": 6,
   "id": "e881aaa2",
   "metadata": {
    "scrolled": true
   },
   "outputs": [
    {
     "data": {
      "text/html": [
       "<div>\n",
       "<style scoped>\n",
       "    .dataframe tbody tr th:only-of-type {\n",
       "        vertical-align: middle;\n",
       "    }\n",
       "\n",
       "    .dataframe tbody tr th {\n",
       "        vertical-align: top;\n",
       "    }\n",
       "\n",
       "    .dataframe thead th {\n",
       "        text-align: right;\n",
       "    }\n",
       "</style>\n",
       "<table border=\"1\" class=\"dataframe\">\n",
       "  <thead>\n",
       "    <tr style=\"text-align: right;\">\n",
       "      <th></th>\n",
       "      <th>Unnamed: 0</th>\n",
       "      <th>Year</th>\n",
       "      <th>Month</th>\n",
       "      <th>DayofMonth</th>\n",
       "      <th>DayOfWeek</th>\n",
       "      <th>DepTime</th>\n",
       "      <th>CRSDepTime</th>\n",
       "      <th>ArrTime</th>\n",
       "      <th>CRSArrTime</th>\n",
       "      <th>UniqueCarrier</th>\n",
       "      <th>...</th>\n",
       "      <th>TaxiIn</th>\n",
       "      <th>TaxiOut</th>\n",
       "      <th>Cancelled</th>\n",
       "      <th>CancellationCode</th>\n",
       "      <th>Diverted</th>\n",
       "      <th>CarrierDelay</th>\n",
       "      <th>WeatherDelay</th>\n",
       "      <th>NASDelay</th>\n",
       "      <th>SecurityDelay</th>\n",
       "      <th>LateAircraftDelay</th>\n",
       "    </tr>\n",
       "  </thead>\n",
       "  <tbody>\n",
       "    <tr>\n",
       "      <th>1936753</th>\n",
       "      <td>7009710</td>\n",
       "      <td>2008</td>\n",
       "      <td>12</td>\n",
       "      <td>13</td>\n",
       "      <td>6</td>\n",
       "      <td>1250.0</td>\n",
       "      <td>1220</td>\n",
       "      <td>1617.0</td>\n",
       "      <td>1552</td>\n",
       "      <td>DL</td>\n",
       "      <td>...</td>\n",
       "      <td>9.0</td>\n",
       "      <td>18.0</td>\n",
       "      <td>0</td>\n",
       "      <td>N</td>\n",
       "      <td>0</td>\n",
       "      <td>3.0</td>\n",
       "      <td>0.0</td>\n",
       "      <td>0.0</td>\n",
       "      <td>0.0</td>\n",
       "      <td>22.0</td>\n",
       "    </tr>\n",
       "    <tr>\n",
       "      <th>1936754</th>\n",
       "      <td>7009717</td>\n",
       "      <td>2008</td>\n",
       "      <td>12</td>\n",
       "      <td>13</td>\n",
       "      <td>6</td>\n",
       "      <td>657.0</td>\n",
       "      <td>600</td>\n",
       "      <td>904.0</td>\n",
       "      <td>749</td>\n",
       "      <td>DL</td>\n",
       "      <td>...</td>\n",
       "      <td>15.0</td>\n",
       "      <td>34.0</td>\n",
       "      <td>0</td>\n",
       "      <td>N</td>\n",
       "      <td>0</td>\n",
       "      <td>0.0</td>\n",
       "      <td>57.0</td>\n",
       "      <td>18.0</td>\n",
       "      <td>0.0</td>\n",
       "      <td>0.0</td>\n",
       "    </tr>\n",
       "    <tr>\n",
       "      <th>1936755</th>\n",
       "      <td>7009718</td>\n",
       "      <td>2008</td>\n",
       "      <td>12</td>\n",
       "      <td>13</td>\n",
       "      <td>6</td>\n",
       "      <td>1007.0</td>\n",
       "      <td>847</td>\n",
       "      <td>1149.0</td>\n",
       "      <td>1010</td>\n",
       "      <td>DL</td>\n",
       "      <td>...</td>\n",
       "      <td>8.0</td>\n",
       "      <td>32.0</td>\n",
       "      <td>0</td>\n",
       "      <td>N</td>\n",
       "      <td>0</td>\n",
       "      <td>1.0</td>\n",
       "      <td>0.0</td>\n",
       "      <td>19.0</td>\n",
       "      <td>0.0</td>\n",
       "      <td>79.0</td>\n",
       "    </tr>\n",
       "    <tr>\n",
       "      <th>1936756</th>\n",
       "      <td>7009726</td>\n",
       "      <td>2008</td>\n",
       "      <td>12</td>\n",
       "      <td>13</td>\n",
       "      <td>6</td>\n",
       "      <td>1251.0</td>\n",
       "      <td>1240</td>\n",
       "      <td>1446.0</td>\n",
       "      <td>1437</td>\n",
       "      <td>DL</td>\n",
       "      <td>...</td>\n",
       "      <td>13.0</td>\n",
       "      <td>13.0</td>\n",
       "      <td>0</td>\n",
       "      <td>N</td>\n",
       "      <td>0</td>\n",
       "      <td>NaN</td>\n",
       "      <td>NaN</td>\n",
       "      <td>NaN</td>\n",
       "      <td>NaN</td>\n",
       "      <td>NaN</td>\n",
       "    </tr>\n",
       "    <tr>\n",
       "      <th>1936757</th>\n",
       "      <td>7009727</td>\n",
       "      <td>2008</td>\n",
       "      <td>12</td>\n",
       "      <td>13</td>\n",
       "      <td>6</td>\n",
       "      <td>1110.0</td>\n",
       "      <td>1103</td>\n",
       "      <td>1413.0</td>\n",
       "      <td>1418</td>\n",
       "      <td>DL</td>\n",
       "      <td>...</td>\n",
       "      <td>8.0</td>\n",
       "      <td>11.0</td>\n",
       "      <td>0</td>\n",
       "      <td>N</td>\n",
       "      <td>0</td>\n",
       "      <td>NaN</td>\n",
       "      <td>NaN</td>\n",
       "      <td>NaN</td>\n",
       "      <td>NaN</td>\n",
       "      <td>NaN</td>\n",
       "    </tr>\n",
       "  </tbody>\n",
       "</table>\n",
       "<p>5 rows × 30 columns</p>\n",
       "</div>"
      ],
      "text/plain": [
       "         Unnamed: 0  Year  Month  DayofMonth  DayOfWeek  DepTime  CRSDepTime  \\\n",
       "1936753     7009710  2008     12          13          6   1250.0        1220   \n",
       "1936754     7009717  2008     12          13          6    657.0         600   \n",
       "1936755     7009718  2008     12          13          6   1007.0         847   \n",
       "1936756     7009726  2008     12          13          6   1251.0        1240   \n",
       "1936757     7009727  2008     12          13          6   1110.0        1103   \n",
       "\n",
       "         ArrTime  CRSArrTime UniqueCarrier  ...  TaxiIn TaxiOut  Cancelled  \\\n",
       "1936753   1617.0        1552            DL  ...     9.0    18.0          0   \n",
       "1936754    904.0         749            DL  ...    15.0    34.0          0   \n",
       "1936755   1149.0        1010            DL  ...     8.0    32.0          0   \n",
       "1936756   1446.0        1437            DL  ...    13.0    13.0          0   \n",
       "1936757   1413.0        1418            DL  ...     8.0    11.0          0   \n",
       "\n",
       "         CancellationCode  Diverted  CarrierDelay  WeatherDelay NASDelay  \\\n",
       "1936753                 N         0           3.0           0.0      0.0   \n",
       "1936754                 N         0           0.0          57.0     18.0   \n",
       "1936755                 N         0           1.0           0.0     19.0   \n",
       "1936756                 N         0           NaN           NaN      NaN   \n",
       "1936757                 N         0           NaN           NaN      NaN   \n",
       "\n",
       "        SecurityDelay  LateAircraftDelay  \n",
       "1936753           0.0               22.0  \n",
       "1936754           0.0                0.0  \n",
       "1936755           0.0               79.0  \n",
       "1936756           NaN                NaN  \n",
       "1936757           NaN                NaN  \n",
       "\n",
       "[5 rows x 30 columns]"
      ]
     },
     "execution_count": 6,
     "metadata": {},
     "output_type": "execute_result"
    }
   ],
   "source": [
    "df.tail()"
   ]
  },
  {
   "cell_type": "code",
   "execution_count": 7,
   "id": "27cdf13b",
   "metadata": {},
   "outputs": [],
   "source": [
    "# All the data are taken the same year, Genuary to December. The 4 columns for delay \n",
    "#causes have lots of NaN (missing values) \n",
    "# The DataFrame has almost 2 millions of rows and 30 columns "
   ]
  },
  {
   "cell_type": "code",
   "execution_count": 8,
   "id": "693c1aed",
   "metadata": {
    "scrolled": true
   },
   "outputs": [
    {
     "data": {
      "text/plain": [
       "(1936758, 30)"
      ]
     },
     "execution_count": 8,
     "metadata": {},
     "output_type": "execute_result"
    }
   ],
   "source": [
    "df.shape"
   ]
  },
  {
   "cell_type": "code",
   "execution_count": 9,
   "id": "72ebd36b",
   "metadata": {
    "scrolled": true
   },
   "outputs": [
    {
     "data": {
      "text/plain": [
       "RangeIndex(start=0, stop=1936758, step=1)"
      ]
     },
     "execution_count": 9,
     "metadata": {},
     "output_type": "execute_result"
    }
   ],
   "source": [
    "df.index"
   ]
  },
  {
   "cell_type": "code",
   "execution_count": 10,
   "id": "8c8994b4",
   "metadata": {
    "scrolled": true
   },
   "outputs": [
    {
     "data": {
      "text/plain": [
       "0          False\n",
       "1          False\n",
       "2          False\n",
       "3          False\n",
       "4          False\n",
       "           ...  \n",
       "1936753    False\n",
       "1936754    False\n",
       "1936755    False\n",
       "1936756    False\n",
       "1936757    False\n",
       "Length: 1936758, dtype: bool"
      ]
     },
     "execution_count": 10,
     "metadata": {},
     "output_type": "execute_result"
    }
   ],
   "source": [
    "df.duplicated()"
   ]
  },
  {
   "cell_type": "code",
   "execution_count": 11,
   "id": "dc3eafe3",
   "metadata": {},
   "outputs": [],
   "source": [
    "# No duplicated values"
   ]
  },
  {
   "cell_type": "code",
   "execution_count": 12,
   "id": "9255bbd4",
   "metadata": {
    "scrolled": true
   },
   "outputs": [
    {
     "name": "stdout",
     "output_type": "stream",
     "text": [
      "0\n"
     ]
    }
   ],
   "source": [
    "for x in range(1):\n",
    "    if x == False:\n",
    "        print(x)"
   ]
  },
  {
   "cell_type": "code",
   "execution_count": 13,
   "id": "0e1aa1ef",
   "metadata": {
    "scrolled": true
   },
   "outputs": [
    {
     "data": {
      "text/plain": [
       "Index(['Unnamed: 0', 'Year', 'Month', 'DayofMonth', 'DayOfWeek', 'DepTime',\n",
       "       'CRSDepTime', 'ArrTime', 'CRSArrTime', 'UniqueCarrier', 'FlightNum',\n",
       "       'TailNum', 'ActualElapsedTime', 'CRSElapsedTime', 'AirTime', 'ArrDelay',\n",
       "       'DepDelay', 'Origin', 'Dest', 'Distance', 'TaxiIn', 'TaxiOut',\n",
       "       'Cancelled', 'CancellationCode', 'Diverted', 'CarrierDelay',\n",
       "       'WeatherDelay', 'NASDelay', 'SecurityDelay', 'LateAircraftDelay'],\n",
       "      dtype='object')"
      ]
     },
     "execution_count": 13,
     "metadata": {},
     "output_type": "execute_result"
    }
   ],
   "source": [
    "df.columns"
   ]
  },
  {
   "cell_type": "code",
   "execution_count": 14,
   "id": "5d3e181a",
   "metadata": {
    "scrolled": true
   },
   "outputs": [
    {
     "name": "stdout",
     "output_type": "stream",
     "text": [
      "<class 'pandas.core.frame.DataFrame'>\n",
      "RangeIndex: 1936758 entries, 0 to 1936757\n",
      "Data columns (total 30 columns):\n",
      " #   Column             Dtype  \n",
      "---  ------             -----  \n",
      " 0   Unnamed: 0         int64  \n",
      " 1   Year               int64  \n",
      " 2   Month              int64  \n",
      " 3   DayofMonth         int64  \n",
      " 4   DayOfWeek          int64  \n",
      " 5   DepTime            float64\n",
      " 6   CRSDepTime         int64  \n",
      " 7   ArrTime            float64\n",
      " 8   CRSArrTime         int64  \n",
      " 9   UniqueCarrier      object \n",
      " 10  FlightNum          int64  \n",
      " 11  TailNum            object \n",
      " 12  ActualElapsedTime  float64\n",
      " 13  CRSElapsedTime     float64\n",
      " 14  AirTime            float64\n",
      " 15  ArrDelay           float64\n",
      " 16  DepDelay           float64\n",
      " 17  Origin             object \n",
      " 18  Dest               object \n",
      " 19  Distance           int64  \n",
      " 20  TaxiIn             float64\n",
      " 21  TaxiOut            float64\n",
      " 22  Cancelled          int64  \n",
      " 23  CancellationCode   object \n",
      " 24  Diverted           int64  \n",
      " 25  CarrierDelay       float64\n",
      " 26  WeatherDelay       float64\n",
      " 27  NASDelay           float64\n",
      " 28  SecurityDelay      float64\n",
      " 29  LateAircraftDelay  float64\n",
      "dtypes: float64(14), int64(11), object(5)\n",
      "memory usage: 443.3+ MB\n"
     ]
    }
   ],
   "source": [
    "# With df.info() we have also the data types and memory usage\n",
    "df.info()"
   ]
  },
  {
   "cell_type": "code",
   "execution_count": 15,
   "id": "c5b5b187",
   "metadata": {
    "scrolled": true
   },
   "outputs": [],
   "source": [
    "# Here Some additional information to help wiht the columns names"
   ]
  },
  {
   "cell_type": "markdown",
   "id": "a4f700b2",
   "metadata": {},
   "source": [
    "__Year__: 2008\\\n",
    "__Month__: 1-12\\\n",
    "__DayofMonth__: 1-31\\\n",
    "__DayOfWeek__: 1 (Monday) - 7 (Sunday)\\\n",
    "__DepTime__: actual departure time (local, hhmm)\\\n",
    "__CRSDepTime__: scheduled departure time (local, hhmm)\\\n",
    "__ArrTime__: actual arrival time (local, hhmm)\\\n",
    "__CRSArrTime__: scheduled arrival time (local, hhmm)\\\n",
    "__UniqueCarrier__: unique carrier code\\\n",
    "__FlightNum__: flight number\\\n",
    "__TailNum__: plane tail number\\\n",
    "__ActualElapsedTime__: in minutes\\\n",
    "__CRSElapsedTime__: in minutes\\\n",
    "__AirTime__: in minutes\\\n",
    "__ArrDelay__: arrival delay, in minutes\\\n",
    "__DepDelay__: departure delay, in minutes\\\n",
    "__Origin__: origin IATA airport code\\\n",
    "__Dest__: destination IATA airport code\\\n",
    "__Distance__: in miles\\\n",
    "__TaxiIn__: taxi in time, in minutes\\\n",
    "__TaxiOut__: taxi out time in minutes\\\n",
    "__Cancelled__: was the flight cancelled?\\\n",
    "__CancellationCode__: reason for cancellation (A = carrier, B = weather, C = NAS, D = security)__weather__, C = NAS, D = security)\\\n",
    "__Diverted__: 1 = yes, 0 = no\\\n",
    "__CarrierDelay__: in minutes\\\n",
    "__WeatherDelay__: in minutes\\\n",
    "__NASDelay__: National Air System delay in minutes\\\n",
    "__SecurityDelay__: in minutes\\\n",
    "__LateAircraftDelay__: in minutes\\"
   ]
  },
  {
   "cell_type": "code",
   "execution_count": 16,
   "id": "19a24bf8",
   "metadata": {
    "scrolled": true
   },
   "outputs": [],
   "source": [
    "# I'm interested to know when is better chance to not get involved in a big delay \n",
    "#or cancellation and also the lower delay destinations\n",
    "# So, I´ll get rid of some of the columns not helping to these purposes."
   ]
  },
  {
   "cell_type": "code",
   "execution_count": 17,
   "id": "5213ea9c",
   "metadata": {
    "scrolled": true
   },
   "outputs": [],
   "source": [
    "df.drop(['Unnamed: 0', 'Year', 'Month', 'DepTime', 'ArrTime', 'ActualElapsedTime', 'CRSElapsedTime', 'FlightNum', 'TailNum', 'TaxiIn', 'TaxiOut', 'CancellationCode',\n",
    "       'CarrierDelay', 'WeatherDelay', 'NASDelay', 'SecurityDelay', 'LateAircraftDelay'], axis = 1, inplace = True)"
   ]
  },
  {
   "cell_type": "code",
   "execution_count": 18,
   "id": "2a0712ec",
   "metadata": {
    "scrolled": true
   },
   "outputs": [
    {
     "data": {
      "text/html": [
       "<div>\n",
       "<style scoped>\n",
       "    .dataframe tbody tr th:only-of-type {\n",
       "        vertical-align: middle;\n",
       "    }\n",
       "\n",
       "    .dataframe tbody tr th {\n",
       "        vertical-align: top;\n",
       "    }\n",
       "\n",
       "    .dataframe thead th {\n",
       "        text-align: right;\n",
       "    }\n",
       "</style>\n",
       "<table border=\"1\" class=\"dataframe\">\n",
       "  <thead>\n",
       "    <tr style=\"text-align: right;\">\n",
       "      <th></th>\n",
       "      <th>DayOfMonth</th>\n",
       "      <th>DayOfWeek</th>\n",
       "      <th>CRSDepTime</th>\n",
       "      <th>CRSArrTime</th>\n",
       "      <th>Airline</th>\n",
       "      <th>AirTime</th>\n",
       "      <th>ArrDelay</th>\n",
       "      <th>DepDelay</th>\n",
       "      <th>Origin</th>\n",
       "      <th>Dest</th>\n",
       "      <th>Distance</th>\n",
       "      <th>Cancelled</th>\n",
       "      <th>Diverted</th>\n",
       "    </tr>\n",
       "  </thead>\n",
       "  <tbody>\n",
       "    <tr>\n",
       "      <th>0</th>\n",
       "      <td>3</td>\n",
       "      <td>4</td>\n",
       "      <td>1955</td>\n",
       "      <td>2225</td>\n",
       "      <td>WN</td>\n",
       "      <td>116.0</td>\n",
       "      <td>-14.0</td>\n",
       "      <td>8.0</td>\n",
       "      <td>IAD</td>\n",
       "      <td>TPA</td>\n",
       "      <td>810</td>\n",
       "      <td>0</td>\n",
       "      <td>0</td>\n",
       "    </tr>\n",
       "  </tbody>\n",
       "</table>\n",
       "</div>"
      ],
      "text/plain": [
       "   DayOfMonth  DayOfWeek  CRSDepTime  CRSArrTime Airline  AirTime  ArrDelay  \\\n",
       "0           3          4        1955        2225      WN    116.0     -14.0   \n",
       "\n",
       "   DepDelay Origin Dest  Distance  Cancelled  Diverted  \n",
       "0       8.0    IAD  TPA       810          0         0  "
      ]
     },
     "execution_count": 18,
     "metadata": {},
     "output_type": "execute_result"
    }
   ],
   "source": [
    "df.rename(columns = {'DayofMonth': 'DayOfMonth', 'UniqueCarrier': 'Airline'}, inplace = True)\n",
    "df.head(1)"
   ]
  },
  {
   "cell_type": "code",
   "execution_count": 19,
   "id": "d89cef34",
   "metadata": {
    "scrolled": true
   },
   "outputs": [
    {
     "data": {
      "text/plain": [
       "(1936758, 13)"
      ]
     },
     "execution_count": 19,
     "metadata": {},
     "output_type": "execute_result"
    }
   ],
   "source": [
    "#Columns reduced by almost the half, just 13.\n",
    "df.shape "
   ]
  },
  {
   "cell_type": "code",
   "execution_count": 20,
   "id": "6cbf848f",
   "metadata": {
    "scrolled": true
   },
   "outputs": [
    {
     "data": {
      "text/plain": [
       "20"
      ]
     },
     "execution_count": 20,
     "metadata": {},
     "output_type": "execute_result"
    }
   ],
   "source": [
    "len(df['Airline'].unique()) "
   ]
  },
  {
   "cell_type": "code",
   "execution_count": 21,
   "id": "050fb2ab",
   "metadata": {
    "scrolled": true
   },
   "outputs": [
    {
     "data": {
      "text/plain": [
       "array(['WN', 'XE', 'YV', 'OH', 'OO', 'UA', 'US', 'DL', 'EV', 'F9', 'FL',\n",
       "       'HA', 'MQ', 'NW', '9E', 'AA', 'AQ', 'AS', 'B6', 'CO'], dtype=object)"
      ]
     },
     "execution_count": 21,
     "metadata": {},
     "output_type": "execute_result"
    }
   ],
   "source": [
    "#The 20 Airlines are:\n",
    "df['Airline'].unique()"
   ]
  },
  {
   "cell_type": "code",
   "execution_count": 22,
   "id": "9b47b5ec",
   "metadata": {},
   "outputs": [
    {
     "name": "stdout",
     "output_type": "stream",
     "text": [
      "                sum       mean        std\n",
      "Airline                                  \n",
      "9E        2457810.0  47.370338  57.395851\n",
      "AA        8918260.0  46.481953  57.613460\n",
      "AQ          20010.0  26.680000  34.635951\n",
      "AS        1504939.0  38.300435  49.157695\n",
      "B6        3044016.0  55.030570  64.454911\n",
      "CO        4322280.0  43.138680  54.814179\n",
      "DL        4462057.0  39.059306  50.031879\n",
      "EV        3955352.0  48.308463  56.826493\n",
      "F9         783086.0  27.701227  37.040093\n",
      "FL        3032082.0  42.535239  52.551021\n",
      "HA         248102.0  33.124433  60.721973\n",
      "MQ        6205622.0  43.726198  56.234547\n",
      "NW        3267642.0  41.306088  70.625712\n",
      "OH        2576892.0  48.937311  53.717138\n",
      "OO        5931799.0  44.790943  49.967861\n",
      "UA        7069279.0  49.985710  56.159739\n",
      "US        3819499.0  38.806187  47.039010\n",
      "WN       13109808.0  34.718587  40.810655\n",
      "XE        5193355.0  50.098444  57.955046\n",
      "YV        3717346.0  55.430655  58.802726\n"
     ]
    }
   ],
   "source": [
    "# Accumulated departure delay by airline, and the mean and standart deviation.\n",
    "grouped = df.groupby('Airline')\n",
    "print(grouped['DepDelay'].agg([np.sum, np.mean, np.std]))"
   ]
  },
  {
   "cell_type": "code",
   "execution_count": 23,
   "id": "314d20ec",
   "metadata": {},
   "outputs": [
    {
     "data": {
      "text/html": [
       "<div>\n",
       "<style scoped>\n",
       "    .dataframe tbody tr th:only-of-type {\n",
       "        vertical-align: middle;\n",
       "    }\n",
       "\n",
       "    .dataframe tbody tr th {\n",
       "        vertical-align: top;\n",
       "    }\n",
       "\n",
       "    .dataframe thead th {\n",
       "        text-align: right;\n",
       "    }\n",
       "</style>\n",
       "<table border=\"1\" class=\"dataframe\">\n",
       "  <thead>\n",
       "    <tr style=\"text-align: right;\">\n",
       "      <th></th>\n",
       "      <th>DayOfMonth</th>\n",
       "      <th>DayOfWeek</th>\n",
       "      <th>CRSDepTime</th>\n",
       "      <th>CRSArrTime</th>\n",
       "      <th>AirTime</th>\n",
       "      <th>ArrDelay</th>\n",
       "      <th>DepDelay</th>\n",
       "      <th>Distance</th>\n",
       "      <th>Cancelled</th>\n",
       "      <th>Diverted</th>\n",
       "    </tr>\n",
       "  </thead>\n",
       "  <tbody>\n",
       "    <tr>\n",
       "      <th>DayOfMonth</th>\n",
       "      <td>1.000000</td>\n",
       "      <td>0.017476</td>\n",
       "      <td>0.001019</td>\n",
       "      <td>0.000758</td>\n",
       "      <td>-0.000244</td>\n",
       "      <td>0.004129</td>\n",
       "      <td>0.005289</td>\n",
       "      <td>0.000117</td>\n",
       "      <td>0.004671</td>\n",
       "      <td>0.001190</td>\n",
       "    </tr>\n",
       "    <tr>\n",
       "      <th>DayOfWeek</th>\n",
       "      <td>0.017476</td>\n",
       "      <td>1.000000</td>\n",
       "      <td>0.027039</td>\n",
       "      <td>0.017750</td>\n",
       "      <td>0.004738</td>\n",
       "      <td>0.006123</td>\n",
       "      <td>0.008538</td>\n",
       "      <td>0.008138</td>\n",
       "      <td>0.000023</td>\n",
       "      <td>-0.001361</td>\n",
       "    </tr>\n",
       "    <tr>\n",
       "      <th>CRSDepTime</th>\n",
       "      <td>0.001019</td>\n",
       "      <td>0.027039</td>\n",
       "      <td>1.000000</td>\n",
       "      <td>0.710303</td>\n",
       "      <td>-0.036582</td>\n",
       "      <td>0.044447</td>\n",
       "      <td>0.058875</td>\n",
       "      <td>-0.029517</td>\n",
       "      <td>0.000023</td>\n",
       "      <td>-0.009096</td>\n",
       "    </tr>\n",
       "    <tr>\n",
       "      <th>CRSArrTime</th>\n",
       "      <td>0.000758</td>\n",
       "      <td>0.017750</td>\n",
       "      <td>0.710303</td>\n",
       "      <td>1.000000</td>\n",
       "      <td>0.025907</td>\n",
       "      <td>0.043078</td>\n",
       "      <td>0.053706</td>\n",
       "      <td>0.024335</td>\n",
       "      <td>0.000201</td>\n",
       "      <td>0.000907</td>\n",
       "    </tr>\n",
       "    <tr>\n",
       "      <th>AirTime</th>\n",
       "      <td>-0.000244</td>\n",
       "      <td>0.004738</td>\n",
       "      <td>-0.036582</td>\n",
       "      <td>0.025907</td>\n",
       "      <td>1.000000</td>\n",
       "      <td>-0.000189</td>\n",
       "      <td>-0.002753</td>\n",
       "      <td>0.980294</td>\n",
       "      <td>NaN</td>\n",
       "      <td>NaN</td>\n",
       "    </tr>\n",
       "    <tr>\n",
       "      <th>ArrDelay</th>\n",
       "      <td>0.004129</td>\n",
       "      <td>0.006123</td>\n",
       "      <td>0.044447</td>\n",
       "      <td>0.043078</td>\n",
       "      <td>-0.000189</td>\n",
       "      <td>1.000000</td>\n",
       "      <td>0.952927</td>\n",
       "      <td>-0.029853</td>\n",
       "      <td>NaN</td>\n",
       "      <td>NaN</td>\n",
       "    </tr>\n",
       "    <tr>\n",
       "      <th>DepDelay</th>\n",
       "      <td>0.005289</td>\n",
       "      <td>0.008538</td>\n",
       "      <td>0.058875</td>\n",
       "      <td>0.053706</td>\n",
       "      <td>-0.002753</td>\n",
       "      <td>0.952927</td>\n",
       "      <td>1.000000</td>\n",
       "      <td>-0.007718</td>\n",
       "      <td>0.016542</td>\n",
       "      <td>0.022867</td>\n",
       "    </tr>\n",
       "    <tr>\n",
       "      <th>Distance</th>\n",
       "      <td>0.000117</td>\n",
       "      <td>0.008138</td>\n",
       "      <td>-0.029517</td>\n",
       "      <td>0.024335</td>\n",
       "      <td>0.980294</td>\n",
       "      <td>-0.029853</td>\n",
       "      <td>-0.007718</td>\n",
       "      <td>1.000000</td>\n",
       "      <td>-0.005060</td>\n",
       "      <td>0.021692</td>\n",
       "    </tr>\n",
       "    <tr>\n",
       "      <th>Cancelled</th>\n",
       "      <td>0.004671</td>\n",
       "      <td>0.000023</td>\n",
       "      <td>0.000023</td>\n",
       "      <td>0.000201</td>\n",
       "      <td>NaN</td>\n",
       "      <td>NaN</td>\n",
       "      <td>0.016542</td>\n",
       "      <td>-0.005060</td>\n",
       "      <td>1.000000</td>\n",
       "      <td>-0.001146</td>\n",
       "    </tr>\n",
       "    <tr>\n",
       "      <th>Diverted</th>\n",
       "      <td>0.001190</td>\n",
       "      <td>-0.001361</td>\n",
       "      <td>-0.009096</td>\n",
       "      <td>0.000907</td>\n",
       "      <td>NaN</td>\n",
       "      <td>NaN</td>\n",
       "      <td>0.022867</td>\n",
       "      <td>0.021692</td>\n",
       "      <td>-0.001146</td>\n",
       "      <td>1.000000</td>\n",
       "    </tr>\n",
       "  </tbody>\n",
       "</table>\n",
       "</div>"
      ],
      "text/plain": [
       "            DayOfMonth  DayOfWeek  CRSDepTime  CRSArrTime   AirTime  ArrDelay  \\\n",
       "DayOfMonth    1.000000   0.017476    0.001019    0.000758 -0.000244  0.004129   \n",
       "DayOfWeek     0.017476   1.000000    0.027039    0.017750  0.004738  0.006123   \n",
       "CRSDepTime    0.001019   0.027039    1.000000    0.710303 -0.036582  0.044447   \n",
       "CRSArrTime    0.000758   0.017750    0.710303    1.000000  0.025907  0.043078   \n",
       "AirTime      -0.000244   0.004738   -0.036582    0.025907  1.000000 -0.000189   \n",
       "ArrDelay      0.004129   0.006123    0.044447    0.043078 -0.000189  1.000000   \n",
       "DepDelay      0.005289   0.008538    0.058875    0.053706 -0.002753  0.952927   \n",
       "Distance      0.000117   0.008138   -0.029517    0.024335  0.980294 -0.029853   \n",
       "Cancelled     0.004671   0.000023    0.000023    0.000201       NaN       NaN   \n",
       "Diverted      0.001190  -0.001361   -0.009096    0.000907       NaN       NaN   \n",
       "\n",
       "            DepDelay  Distance  Cancelled  Diverted  \n",
       "DayOfMonth  0.005289  0.000117   0.004671  0.001190  \n",
       "DayOfWeek   0.008538  0.008138   0.000023 -0.001361  \n",
       "CRSDepTime  0.058875 -0.029517   0.000023 -0.009096  \n",
       "CRSArrTime  0.053706  0.024335   0.000201  0.000907  \n",
       "AirTime    -0.002753  0.980294        NaN       NaN  \n",
       "ArrDelay    0.952927 -0.029853        NaN       NaN  \n",
       "DepDelay    1.000000 -0.007718   0.016542  0.022867  \n",
       "Distance   -0.007718  1.000000  -0.005060  0.021692  \n",
       "Cancelled   0.016542 -0.005060   1.000000 -0.001146  \n",
       "Diverted    0.022867  0.021692  -0.001146  1.000000  "
      ]
     },
     "execution_count": 23,
     "metadata": {},
     "output_type": "execute_result"
    }
   ],
   "source": [
    "df.corr()"
   ]
  },
  {
   "cell_type": "code",
   "execution_count": 24,
   "id": "646e2e8e",
   "metadata": {},
   "outputs": [],
   "source": [
    "# With correlation coefficient we can see, e.g., AirTime has nothing to do with \n",
    "#delays, and a lot with Distance. ... Meaning of NaNs here is 'not relation at all'"
   ]
  },
  {
   "cell_type": "markdown",
   "id": "a2c8951a",
   "metadata": {},
   "source": [
    "## Exercici 2"
   ]
  },
  {
   "cell_type": "markdown",
   "id": "af6d05d7",
   "metadata": {},
   "source": [
    "> __Fes un informe complet del dataset:__\\\n",
    "Resumeix estadísticament les columnes d’interès\\\n",
    "Troba quantes dades faltants hi ha per columna\\\n",
    "Crea columnes noves (velocitat mitjana del vol, si ha\\ arribat tard o no...)\n",
    "Taula de les aerolínies amb més endarreriments acumulats\\\n",
    "Quins són els vols més llargs? I els més endarrerits?\\\n",
    "Etc."
   ]
  },
  {
   "cell_type": "code",
   "execution_count": 25,
   "id": "8f884e7e",
   "metadata": {
    "scrolled": false
   },
   "outputs": [
    {
     "data": {
      "text/html": [
       "<div>\n",
       "<style scoped>\n",
       "    .dataframe tbody tr th:only-of-type {\n",
       "        vertical-align: middle;\n",
       "    }\n",
       "\n",
       "    .dataframe tbody tr th {\n",
       "        vertical-align: top;\n",
       "    }\n",
       "\n",
       "    .dataframe thead th {\n",
       "        text-align: right;\n",
       "    }\n",
       "</style>\n",
       "<table border=\"1\" class=\"dataframe\">\n",
       "  <thead>\n",
       "    <tr style=\"text-align: right;\">\n",
       "      <th></th>\n",
       "      <th>DayOfMonth</th>\n",
       "      <th>DayOfWeek</th>\n",
       "      <th>CRSDepTime</th>\n",
       "      <th>CRSArrTime</th>\n",
       "      <th>AirTime</th>\n",
       "      <th>ArrDelay</th>\n",
       "      <th>DepDelay</th>\n",
       "      <th>Distance</th>\n",
       "      <th>Cancelled</th>\n",
       "      <th>Diverted</th>\n",
       "    </tr>\n",
       "  </thead>\n",
       "  <tbody>\n",
       "    <tr>\n",
       "      <th>count</th>\n",
       "      <td>1.936758e+06</td>\n",
       "      <td>1.936758e+06</td>\n",
       "      <td>1.936758e+06</td>\n",
       "      <td>1.936758e+06</td>\n",
       "      <td>1.928371e+06</td>\n",
       "      <td>1.928371e+06</td>\n",
       "      <td>1.936758e+06</td>\n",
       "      <td>1.936758e+06</td>\n",
       "      <td>1.936758e+06</td>\n",
       "      <td>1.936758e+06</td>\n",
       "    </tr>\n",
       "    <tr>\n",
       "      <th>mean</th>\n",
       "      <td>1.575347e+01</td>\n",
       "      <td>3.984827e+00</td>\n",
       "      <td>1.467473e+03</td>\n",
       "      <td>1.634225e+03</td>\n",
       "      <td>1.082771e+02</td>\n",
       "      <td>4.219988e+01</td>\n",
       "      <td>4.318518e+01</td>\n",
       "      <td>7.656862e+02</td>\n",
       "      <td>3.268348e-04</td>\n",
       "      <td>4.003598e-03</td>\n",
       "    </tr>\n",
       "    <tr>\n",
       "      <th>std</th>\n",
       "      <td>8.776272e+00</td>\n",
       "      <td>1.995966e+00</td>\n",
       "      <td>4.247668e+02</td>\n",
       "      <td>4.646347e+02</td>\n",
       "      <td>6.864261e+01</td>\n",
       "      <td>5.678472e+01</td>\n",
       "      <td>5.340250e+01</td>\n",
       "      <td>5.744797e+02</td>\n",
       "      <td>1.807562e-02</td>\n",
       "      <td>6.314722e-02</td>\n",
       "    </tr>\n",
       "    <tr>\n",
       "      <th>min</th>\n",
       "      <td>1.000000e+00</td>\n",
       "      <td>1.000000e+00</td>\n",
       "      <td>0.000000e+00</td>\n",
       "      <td>0.000000e+00</td>\n",
       "      <td>0.000000e+00</td>\n",
       "      <td>-1.090000e+02</td>\n",
       "      <td>6.000000e+00</td>\n",
       "      <td>1.100000e+01</td>\n",
       "      <td>0.000000e+00</td>\n",
       "      <td>0.000000e+00</td>\n",
       "    </tr>\n",
       "    <tr>\n",
       "      <th>25%</th>\n",
       "      <td>8.000000e+00</td>\n",
       "      <td>2.000000e+00</td>\n",
       "      <td>1.135000e+03</td>\n",
       "      <td>1.325000e+03</td>\n",
       "      <td>5.800000e+01</td>\n",
       "      <td>9.000000e+00</td>\n",
       "      <td>1.200000e+01</td>\n",
       "      <td>3.380000e+02</td>\n",
       "      <td>0.000000e+00</td>\n",
       "      <td>0.000000e+00</td>\n",
       "    </tr>\n",
       "    <tr>\n",
       "      <th>50%</th>\n",
       "      <td>1.600000e+01</td>\n",
       "      <td>4.000000e+00</td>\n",
       "      <td>1.510000e+03</td>\n",
       "      <td>1.705000e+03</td>\n",
       "      <td>9.000000e+01</td>\n",
       "      <td>2.400000e+01</td>\n",
       "      <td>2.400000e+01</td>\n",
       "      <td>6.060000e+02</td>\n",
       "      <td>0.000000e+00</td>\n",
       "      <td>0.000000e+00</td>\n",
       "    </tr>\n",
       "    <tr>\n",
       "      <th>75%</th>\n",
       "      <td>2.300000e+01</td>\n",
       "      <td>6.000000e+00</td>\n",
       "      <td>1.815000e+03</td>\n",
       "      <td>2.014000e+03</td>\n",
       "      <td>1.370000e+02</td>\n",
       "      <td>5.600000e+01</td>\n",
       "      <td>5.300000e+01</td>\n",
       "      <td>9.980000e+02</td>\n",
       "      <td>0.000000e+00</td>\n",
       "      <td>0.000000e+00</td>\n",
       "    </tr>\n",
       "    <tr>\n",
       "      <th>max</th>\n",
       "      <td>3.100000e+01</td>\n",
       "      <td>7.000000e+00</td>\n",
       "      <td>2.359000e+03</td>\n",
       "      <td>2.400000e+03</td>\n",
       "      <td>1.091000e+03</td>\n",
       "      <td>2.461000e+03</td>\n",
       "      <td>2.467000e+03</td>\n",
       "      <td>4.962000e+03</td>\n",
       "      <td>1.000000e+00</td>\n",
       "      <td>1.000000e+00</td>\n",
       "    </tr>\n",
       "  </tbody>\n",
       "</table>\n",
       "</div>"
      ],
      "text/plain": [
       "         DayOfMonth     DayOfWeek    CRSDepTime    CRSArrTime       AirTime  \\\n",
       "count  1.936758e+06  1.936758e+06  1.936758e+06  1.936758e+06  1.928371e+06   \n",
       "mean   1.575347e+01  3.984827e+00  1.467473e+03  1.634225e+03  1.082771e+02   \n",
       "std    8.776272e+00  1.995966e+00  4.247668e+02  4.646347e+02  6.864261e+01   \n",
       "min    1.000000e+00  1.000000e+00  0.000000e+00  0.000000e+00  0.000000e+00   \n",
       "25%    8.000000e+00  2.000000e+00  1.135000e+03  1.325000e+03  5.800000e+01   \n",
       "50%    1.600000e+01  4.000000e+00  1.510000e+03  1.705000e+03  9.000000e+01   \n",
       "75%    2.300000e+01  6.000000e+00  1.815000e+03  2.014000e+03  1.370000e+02   \n",
       "max    3.100000e+01  7.000000e+00  2.359000e+03  2.400000e+03  1.091000e+03   \n",
       "\n",
       "           ArrDelay      DepDelay      Distance     Cancelled      Diverted  \n",
       "count  1.928371e+06  1.936758e+06  1.936758e+06  1.936758e+06  1.936758e+06  \n",
       "mean   4.219988e+01  4.318518e+01  7.656862e+02  3.268348e-04  4.003598e-03  \n",
       "std    5.678472e+01  5.340250e+01  5.744797e+02  1.807562e-02  6.314722e-02  \n",
       "min   -1.090000e+02  6.000000e+00  1.100000e+01  0.000000e+00  0.000000e+00  \n",
       "25%    9.000000e+00  1.200000e+01  3.380000e+02  0.000000e+00  0.000000e+00  \n",
       "50%    2.400000e+01  2.400000e+01  6.060000e+02  0.000000e+00  0.000000e+00  \n",
       "75%    5.600000e+01  5.300000e+01  9.980000e+02  0.000000e+00  0.000000e+00  \n",
       "max    2.461000e+03  2.467000e+03  4.962000e+03  1.000000e+00  1.000000e+00  "
      ]
     },
     "execution_count": 25,
     "metadata": {},
     "output_type": "execute_result"
    }
   ],
   "source": [
    "df.describe()"
   ]
  },
  {
   "cell_type": "code",
   "execution_count": 26,
   "id": "09b24a12",
   "metadata": {
    "scrolled": true
   },
   "outputs": [
    {
     "data": {
      "text/plain": [
       "DayOfMonth    1936758\n",
       "DayOfWeek     1936758\n",
       "CRSDepTime    1936758\n",
       "CRSArrTime    1936758\n",
       "Airline       1936758\n",
       "AirTime       1928371\n",
       "ArrDelay      1928371\n",
       "DepDelay      1936758\n",
       "Origin        1936758\n",
       "Dest          1936758\n",
       "Distance      1936758\n",
       "Cancelled     1936758\n",
       "Diverted      1936758\n",
       "dtype: int64"
      ]
     },
     "execution_count": 26,
     "metadata": {},
     "output_type": "execute_result"
    }
   ],
   "source": [
    "# AirTime and ArrDelay got 8387 missing values each\n",
    "df.count()"
   ]
  },
  {
   "cell_type": "code",
   "execution_count": 27,
   "id": "bb2d8a53",
   "metadata": {
    "scrolled": true
   },
   "outputs": [
    {
     "name": "stdout",
     "output_type": "stream",
     "text": [
      "         DayOfMonth  DayOfWeek  CRSDepTime  CRSArrTime Airline  AirTime  \\\n",
      "686014           10          4        1417        1605      NW    132.0   \n",
      "322516            3          7        1820         555      NW    437.0   \n",
      "839306            6          2        1530        1823      NW    145.0   \n",
      "1009553          20          5        1710        1825      MQ     50.0   \n",
      "1881639          19          5        1325        1546      NW    192.0   \n",
      "...             ...        ...         ...         ...     ...      ...   \n",
      "1276068          11          1        1635        1725      WN    153.0   \n",
      "1276056          11          1        1445        1610      WN     67.0   \n",
      "596596           25          5        2000        2215      WN    111.0   \n",
      "1276055          11          1        1410        1535      WN     68.0   \n",
      "1364282          17          7        2035        2139      FL    103.0   \n",
      "\n",
      "         ArrDelay  DepDelay Origin Dest  Distance  Cancelled  Diverted  \n",
      "686014     2453.0    2467.0    CLT  MSP       930          0         0  \n",
      "322516     2461.0    2457.0    HNL  MSP      3972          0         0  \n",
      "839306     1951.0    1952.0    RSW  DTW      1085          0         0  \n",
      "1009553    1707.0    1710.0    LIT  DFW       304          0         0  \n",
      "1881639    1655.0    1597.0    BOS  MSP      1124          0         0  \n",
      "...           ...       ...    ...  ...       ...        ...       ...  \n",
      "1276068       3.0       6.0    OMA  LAS      1099          0         0  \n",
      "1276056       0.0       6.0    OAK  SAN       446          0         0  \n",
      "596596       -7.0       6.0    MCO  CMH       802          0         0  \n",
      "1276055      -1.0       6.0    OAK  SAN       446          0         0  \n",
      "1364282       6.0       6.0    ATL  MCI       692          0         0  \n",
      "\n",
      "[1936758 rows x 13 columns]\n"
     ]
    }
   ],
   "source": [
    "print(df.sort_values('DepDelay', ascending = False))"
   ]
  },
  {
   "cell_type": "code",
   "execution_count": 28,
   "id": "cd8d2a43",
   "metadata": {},
   "outputs": [],
   "source": [
    "# With the maximum values of Departure Delay column at the top,  we can say that \n",
    "#the NW Airline with destination MSP, flying thursday or Sunday, the first week of the month, \n",
    "#risks to suffer the bigest delays."
   ]
  },
  {
   "cell_type": "code",
   "execution_count": 30,
   "id": "c87009c8",
   "metadata": {},
   "outputs": [
    {
     "data": {
      "text/html": [
       "<div>\n",
       "<style scoped>\n",
       "    .dataframe tbody tr th:only-of-type {\n",
       "        vertical-align: middle;\n",
       "    }\n",
       "\n",
       "    .dataframe tbody tr th {\n",
       "        vertical-align: top;\n",
       "    }\n",
       "\n",
       "    .dataframe thead th {\n",
       "        text-align: right;\n",
       "    }\n",
       "</style>\n",
       "<table border=\"1\" class=\"dataframe\">\n",
       "  <thead>\n",
       "    <tr style=\"text-align: right;\">\n",
       "      <th></th>\n",
       "      <th>DayOfMonth</th>\n",
       "      <th>DayOfWeek</th>\n",
       "      <th>CRSDepTime</th>\n",
       "      <th>CRSArrTime</th>\n",
       "      <th>Airline</th>\n",
       "      <th>AirTime</th>\n",
       "      <th>ArrDelay</th>\n",
       "      <th>DepDelay</th>\n",
       "      <th>Origin</th>\n",
       "      <th>Dest</th>\n",
       "      <th>Distance</th>\n",
       "      <th>Cancelled</th>\n",
       "      <th>Diverted</th>\n",
       "      <th>AvSpeed</th>\n",
       "    </tr>\n",
       "  </thead>\n",
       "  <tbody>\n",
       "    <tr>\n",
       "      <th>0</th>\n",
       "      <td>3</td>\n",
       "      <td>4</td>\n",
       "      <td>1955</td>\n",
       "      <td>2225</td>\n",
       "      <td>WN</td>\n",
       "      <td>116.0</td>\n",
       "      <td>-14.0</td>\n",
       "      <td>8.0</td>\n",
       "      <td>IAD</td>\n",
       "      <td>TPA</td>\n",
       "      <td>810</td>\n",
       "      <td>0</td>\n",
       "      <td>0</td>\n",
       "      <td>6.982759</td>\n",
       "    </tr>\n",
       "  </tbody>\n",
       "</table>\n",
       "</div>"
      ],
      "text/plain": [
       "   DayOfMonth  DayOfWeek  CRSDepTime  CRSArrTime Airline  AirTime  ArrDelay  \\\n",
       "0           3          4        1955        2225      WN    116.0     -14.0   \n",
       "\n",
       "   DepDelay Origin Dest  Distance  Cancelled  Diverted   AvSpeed  \n",
       "0       8.0    IAD  TPA       810          0         0  6.982759  "
      ]
     },
     "execution_count": 30,
     "metadata": {},
     "output_type": "execute_result"
    }
   ],
   "source": [
    "# From 'Distance' and 'AirTime' we can create a new column 'Average Speed'(AvSpeed)\n",
    "# AvSpeed = Distance / AirTime\n",
    "\n",
    "df[\"AvSpeed\"] = df[\"Distance\"] / df[\"AirTime\"]\n",
    "df.head(1)"
   ]
  },
  {
   "cell_type": "markdown",
   "id": "c1a8f373",
   "metadata": {},
   "source": [
    ">__Objectius:__\n",
    "Anàlisi exploratòria\n",
    "'Dataframes'\n",
    "\n",
    ">__Durada:__ 3 dies\n",
    "\n",
    ">__Lliurament:__\n",
    "Enviar la URL a un repositori anomenat __estructures_Dataframe__\\ que contingui la solució. S'ha d'entregar cada Excercici\\ en un mateix fitxer i en un repositori."
   ]
  }
 ],
 "metadata": {
  "kernelspec": {
   "display_name": "Python 3",
   "language": "python",
   "name": "python3"
  },
  "language_info": {
   "codemirror_mode": {
    "name": "ipython",
    "version": 3
   },
   "file_extension": ".py",
   "mimetype": "text/x-python",
   "name": "python",
   "nbconvert_exporter": "python",
   "pygments_lexer": "ipython3",
   "version": "3.8.8"
  }
 },
 "nbformat": 4,
 "nbformat_minor": 5
}
